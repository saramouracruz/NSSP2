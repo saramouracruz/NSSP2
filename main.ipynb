{
 "cells": [
  {
   "cell_type": "code",
   "execution_count": 1,
   "metadata": {},
   "outputs": [],
   "source": [
    "from utils import *"
   ]
  },
  {
   "cell_type": "code",
   "execution_count": 2,
   "metadata": {},
   "outputs": [],
   "source": [
    "data = loadmat(\"s2/S2_A1_E1.mat\")\n",
    "emg = data[\"emg\"]\n",
    "emg_rectified = data[\"emg\"].copy()\n",
    "stimulus = data['restimulus']\n",
    "repetition = data['rerepetition']"
   ]
  },
  {
   "cell_type": "code",
   "execution_count": 3,
   "metadata": {},
   "outputs": [
    {
     "name": "stdout",
     "output_type": "stream",
     "text": [
      "Trials to exclude for Stimulus 1: []\n",
      "Trials to exclude for Stimulus 2: [2 4]\n",
      "Trials to exclude for Stimulus 3: []\n",
      "Trials to exclude for Stimulus 4: [7]\n",
      "Trials to exclude for Stimulus 5: []\n",
      "Trials to exclude for Stimulus 6: []\n",
      "Trials to exclude for Stimulus 7: []\n",
      "Trials to exclude for Stimulus 8: []\n",
      "Trials to exclude for Stimulus 9: [8]\n",
      "Trials to exclude for Stimulus 10: []\n",
      "Trials to exclude for Stimulus 11: []\n",
      "Trials to exclude for Stimulus 12: [4]\n"
     ]
    }
   ],
   "source": [
    "# Step 1: Pre-process EMG data to calculate envelopes\n",
    "# `emg_envelope` computes the moving average (envelope) for rectified EMG signals \n",
    "# based on the given stimulus and repetition indices.\n",
    "emg_envelopes = emg_envelope(emg_rectified, stimulus, repetition)\n",
    "\n",
    "# Step 2: Calculate average activations\n",
    "# `emg_average_activations` computes the mean activation levels for each channel,\n",
    "# stimulus, and repetition to facilitate identifying anomalous trials.\n",
    "\n",
    "emg_average_activations = emg_average_activations(emg_envelopes)\n",
    "# Step 3: Identify trials to exclude\n",
    "# `trial_to_exclude_all` identifies trials (repetitions) that deviate significantly \n",
    "# from the average activation using a threshold (based on standard deviation or IQR).\n",
    "# - `threshold_factor`: Adjusts the sensitivity of outlier detection.\n",
    "# - `use_iqr`: If True, uses interquartile range instead of standard deviation.\n",
    "\n",
    "exclude_list = trial_to_exclude_all(emg_average_activations, threshold_factor=1.5, use_iqr=True)\n",
    "\n",
    "# Step 4: Define feature functions\n",
    "# Each feature function processes EMG data for a specific metric across channels.\n",
    "# These features will be used to create the machine-learning dataset.\n",
    "feature_functions = [\n",
    "    mean_absolute_value,  # Computes the mean absolute value of the EMG signal.\n",
    "    root_mean_square,     # Computes the root mean square of the EMG signal.\n",
    "    waveform_length,      # Calculates the cumulative waveform length.\n",
    "    slope_sign_changes,   # Counts the number of slope sign changes in the signal.\n",
    "    variance,             # Measures the variance of the signal.\n",
    "    mean_frequency,       # Estimates the mean frequency of the signal.\n",
    "    maximum_amplitude     # Finds the maximum amplitude of the signal.\n",
    "]\n",
    "\n",
    "# Step 5: Build the dataset\n",
    "# `build_dataset_from_ninapro` extracts features using the defined feature functions\n",
    "# for the processed EMG envelopes. It also excludes the identified anomalous trials.\n",
    "# - `emg_envelopes`: The processed EMG envelope data.\n",
    "# - `features`: List of feature extraction functions.\n",
    "# - `exclude_list`: Trials marked for exclusion to ensure clean data.\n",
    "dataset, labels = build_dataset_from_ninapro(emg_envelopes, features=feature_functions, exclude_list=exclude_list)"
   ]
  },
  {
   "cell_type": "code",
   "execution_count": 4,
   "metadata": {},
   "outputs": [
    {
     "name": "stdout",
     "output_type": "stream",
     "text": [
      "(115, 70)\n",
      "(115,)\n"
     ]
    }
   ],
   "source": [
    "print(dataset.shape)\n",
    "print(labels.shape)"
   ]
  },
  {
   "cell_type": "markdown",
   "metadata": {},
   "source": []
  }
 ],
 "metadata": {
  "kernelspec": {
   "display_name": "base",
   "language": "python",
   "name": "python3"
  },
  "language_info": {
   "codemirror_mode": {
    "name": "ipython",
    "version": 3
   },
   "file_extension": ".py",
   "mimetype": "text/x-python",
   "name": "python",
   "nbconvert_exporter": "python",
   "pygments_lexer": "ipython3",
   "version": "3.9.7"
  }
 },
 "nbformat": 4,
 "nbformat_minor": 2
}
